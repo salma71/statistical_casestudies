{
 "cells": [
  {
   "cell_type": "code",
   "execution_count": 39,
   "metadata": {},
   "outputs": [],
   "source": [
    "import numpy as np\n",
    "import pandas as pd\n",
    "import matplotlib.pyplot as plt"
   ]
  },
  {
   "cell_type": "code",
   "execution_count": 55,
   "metadata": {},
   "outputs": [
    {
     "data": {
      "text/html": [
       "<div>\n",
       "<style scoped>\n",
       "    .dataframe tbody tr th:only-of-type {\n",
       "        vertical-align: middle;\n",
       "    }\n",
       "\n",
       "    .dataframe tbody tr th {\n",
       "        vertical-align: top;\n",
       "    }\n",
       "\n",
       "    .dataframe thead th {\n",
       "        text-align: right;\n",
       "    }\n",
       "</style>\n",
       "<table border=\"1\" class=\"dataframe\">\n",
       "  <thead>\n",
       "    <tr style=\"text-align: right;\">\n",
       "      <th></th>\n",
       "      <th>genotype</th>\n",
       "      <th>bout_length</th>\n",
       "      <th>fish</th>\n",
       "    </tr>\n",
       "  </thead>\n",
       "  <tbody>\n",
       "    <tr>\n",
       "      <th>0</th>\n",
       "      <td>het</td>\n",
       "      <td>12.00</td>\n",
       "      <td>1</td>\n",
       "    </tr>\n",
       "    <tr>\n",
       "      <th>1</th>\n",
       "      <td>het</td>\n",
       "      <td>33.00</td>\n",
       "      <td>1</td>\n",
       "    </tr>\n",
       "    <tr>\n",
       "      <th>2</th>\n",
       "      <td>het</td>\n",
       "      <td>0.96</td>\n",
       "      <td>1</td>\n",
       "    </tr>\n",
       "    <tr>\n",
       "      <th>3</th>\n",
       "      <td>het</td>\n",
       "      <td>4.98</td>\n",
       "      <td>1</td>\n",
       "    </tr>\n",
       "    <tr>\n",
       "      <th>4</th>\n",
       "      <td>het</td>\n",
       "      <td>1.98</td>\n",
       "      <td>1</td>\n",
       "    </tr>\n",
       "    <tr>\n",
       "      <th>...</th>\n",
       "      <td>...</td>\n",
       "      <td>...</td>\n",
       "      <td>...</td>\n",
       "    </tr>\n",
       "    <tr>\n",
       "      <th>5470</th>\n",
       "      <td>wt</td>\n",
       "      <td>3.00</td>\n",
       "      <td>96</td>\n",
       "    </tr>\n",
       "    <tr>\n",
       "      <th>5471</th>\n",
       "      <td>wt</td>\n",
       "      <td>6.96</td>\n",
       "      <td>96</td>\n",
       "    </tr>\n",
       "    <tr>\n",
       "      <th>5472</th>\n",
       "      <td>wt</td>\n",
       "      <td>9.00</td>\n",
       "      <td>96</td>\n",
       "    </tr>\n",
       "    <tr>\n",
       "      <th>5473</th>\n",
       "      <td>wt</td>\n",
       "      <td>0.96</td>\n",
       "      <td>96</td>\n",
       "    </tr>\n",
       "    <tr>\n",
       "      <th>5474</th>\n",
       "      <td>wt</td>\n",
       "      <td>1.98</td>\n",
       "      <td>96</td>\n",
       "    </tr>\n",
       "  </tbody>\n",
       "</table>\n",
       "<p>5475 rows × 3 columns</p>\n",
       "</div>"
      ],
      "text/plain": [
       "     genotype  bout_length  fish\n",
       "0         het        12.00     1\n",
       "1         het        33.00     1\n",
       "2         het         0.96     1\n",
       "3         het         4.98     1\n",
       "4         het         1.98     1\n",
       "...       ...          ...   ...\n",
       "5470       wt         3.00    96\n",
       "5471       wt         6.96    96\n",
       "5472       wt         9.00    96\n",
       "5473       wt         0.96    96\n",
       "5474       wt         1.98    96\n",
       "\n",
       "[5475 rows x 3 columns]"
      ]
     },
     "execution_count": 55,
     "metadata": {},
     "output_type": "execute_result"
    }
   ],
   "source": [
    "df_zebra = pd.read_csv('statistical_casestudies/datasets/gandhi_et_al_bouts.csv',sep=',', header=0, skiprows=4)\n",
    "df_zebra"
   ]
  },
  {
   "cell_type": "raw",
   "metadata": {},
   "source": [
    "An active bout is a stretch of time where a fish is constantly moving. \n",
    "Plot an ECDF of active bout length for the mutant and wild type fish for the seventh night of their lives. The data sets are in the numpy arrays bout_lengths_wt and bout_lengths_mut. The bout lengths are in units of minutes."
   ]
  },
  {
   "cell_type": "code",
   "execution_count": 71,
   "metadata": {},
   "outputs": [],
   "source": [
    "bout_wt = df_zebra[df_zebra['genotype'] == 'wt']\n",
    "bout_lengths_wt = bout_wt['bout_length']"
   ]
  },
  {
   "cell_type": "code",
   "execution_count": 100,
   "metadata": {},
   "outputs": [],
   "source": [
    "bout_mut = df_zebra[df_zebra['genotype'] == 'mut']\n",
    "bout_lengths_mut = bout_mut['bout_length']"
   ]
  },
  {
   "cell_type": "code",
   "execution_count": 103,
   "metadata": {},
   "outputs": [],
   "source": [
    "bout_het = df_zebra[df_zebra['genotype'] == 'het']\n",
    "bout_lengths_het = bout_het['bout_length']"
   ]
  },
  {
   "cell_type": "code",
   "execution_count": null,
   "metadata": {},
   "outputs": [],
   "source": [
    "# generate x_wt and y_wt for  ecdf plotting"
   ]
  },
  {
   "cell_type": "code",
   "execution_count": 74,
   "metadata": {},
   "outputs": [],
   "source": [
    "def ecdf(data):\n",
    "    \"\"\"Compute ECDF for a one-dimensional array of measurements.\"\"\"\n",
    "    # Number of data points\n",
    "    n = len(data)\n",
    "\n",
    "    # x-data for the ECDF\n",
    "    x = np.sort(data)\n",
    "\n",
    "    # y-data for the ECDF\n",
    "    y = np.arange(1, n+1) / n\n",
    "\n",
    "    return x, y"
   ]
  },
  {
   "cell_type": "code",
   "execution_count": 105,
   "metadata": {},
   "outputs": [],
   "source": [
    "# plot the ECDF\n",
    "x_wt, y_wt = ecdf(bout_lengths_wt)\n",
    "x_mt, y_mt = ecdf(bout_lengths_mut)\n",
    "x_ht, y_ht = ecdf(bout_lengths_het)"
   ]
  },
  {
   "cell_type": "code",
   "execution_count": 106,
   "metadata": {},
   "outputs": [
    {
     "data": {
      "image/png": "[encoded data removed]",
      "text/plain": [
       "<Figure size 432x288 with 1 Axes>"
      ]
     },
     "metadata": {
      "needs_background": "light"
     },
     "output_type": "display_data"
    }
   ],
   "source": [
    "_ = plt.plot(x_wt, y_wt, marker='.', linestyle='none')\n",
    "_ = plt.plot(x_mt, y_mt, marker='.', linestyle='none')\n",
    "_ = plt.plot(x_ht, y_ht, marker='.', linestyle='none')\n",
    "# Make a legend, label axes, and show plot\n",
    "_ = plt.legend(('wt', 'mut', 'het'))\n",
    "_ = plt.xlabel('active bout length (min)')\n",
    "_ = plt.ylabel('ECDF')\n",
    "plt.show()\n"
   ]
  },
  {
   "cell_type": "raw",
   "metadata": {},
   "source": [
    "There is an outlier of one active bout for a mutant fish, and the ECDF exposes this clearly. \n",
    "The bout lengths appear Exponentially distributed, which implies that exiting an active bout to rest is a Poisson process; the fish have no apparent memory about when they became active.\n",
    "While not exactly Exponentially distributed, the ECDF has no left tail, and no discernible inflection point, which is very much like the Exponential CDF."
   ]
  },
  {
   "cell_type": "raw",
   "metadata": {},
   "source": [
    "now, we can compute the mean active bout length for wild type, het, and mutant, with 95% bootstrap confidence interval."
   ]
  },
  {
   "cell_type": "code",
   "execution_count": 94,
   "metadata": {},
   "outputs": [],
   "source": [
    "# define a function to draw bootstrap replicas\n",
    "def bootstrap_replicate_1d(data, func):\n",
    "    return func(np.random.choice(data, size=len(data)))\n",
    "\n",
    "def draw_bs_reps(data, func, size=1):\n",
    "    \"\"\"Draw bootstrap replicates.\"\"\"\n",
    "\n",
    "    # Initialize array of replicates: bs_replicates\n",
    "    bs_replicates = np.empty(size)\n",
    "\n",
    "    # Generate replicates\n",
    "    for i in range(size):\n",
    "        bs_replicates[i] = bootstrap_replicate_1d(data, func)\n",
    "\n",
    "    return bs_replicates"
   ]
  },
  {
   "cell_type": "code",
   "execution_count": 107,
   "metadata": {},
   "outputs": [
    {
     "data": {
      "text/plain": [
       "(3.873555713271929, 6.543372781065037, 4.433677229182006)"
      ]
     },
     "execution_count": 107,
     "metadata": {},
     "output_type": "execute_result"
    }
   ],
   "source": [
    "# compute mean for mut and wt\n",
    "mean_wt = np.mean(bout_lengths_wt)\n",
    "mean_mut = np.mean(bout_lengths_mut)\n",
    "mean_het = np.mean(bout_lengths_het)\n",
    "mean_wt, mean_mut, mean_het"
   ]
  },
  {
   "cell_type": "code",
   "execution_count": 108,
   "metadata": {},
   "outputs": [],
   "source": [
    "# draw a 10,000 bootstrap samples using the pre-defined function into bs_reps_wt and bs_reps_mut\n",
    "bs_reps_wt = draw_bs_reps(bout_lengths_wt, np.mean, size=10000)\n",
    "bs_reps_mut = draw_bs_reps(bout_lengths_mut, np.mean, size=10000)\n",
    "bs_reps_het = draw_bs_reps(bout_lengths_het, np.mean, size=10000)"
   ]
  },
  {
   "cell_type": "code",
   "execution_count": 131,
   "metadata": {},
   "outputs": [
    {
     "name": "stdout",
     "output_type": "stream",
     "text": [
      "95% confidence interval = [3.63849219 4.13097232] wt\n",
      "95% confidence interval = [6.11076368 7.01938757] mut\n",
      "95% confidence interval = [4.20788799 4.66346684] het\n"
     ]
    }
   ],
   "source": [
    "# Compute 95% confidence intervals\n",
    "conf_wt = np.percentile(bs_reps_wt, [2.5 ,97.5])\n",
    "conf_mut = np.percentile(bs_reps_mut, [2.5, 97.5])\n",
    "conf_het = np.percentile(bs_reps_het, [2.5, 97.5])\n",
    "# Print the confidence interval\n",
    "print('95% confidence interval =', conf_wt, 'wt')\n",
    "print('95% confidence interval =', conf_mut, 'mut')\n",
    "print('95% confidence interval =', conf_het, 'het')"
   ]
  },
  {
   "cell_type": "markdown",
   "metadata": {},
   "source": [
    "The *confidence intervals* are quite separated for the wt and mut. As demonestrated from the prelimnary analysis, the **mut** type has a _longer length_ compared to the **wt** type.\n",
    "However, I will proceed to perform hypothesis tests."
   ]
  },
  {
   "cell_type": "markdown",
   "metadata": {},
   "source": [
    "### The pipe line for hypothesis test:\n",
    "* Clearly state the null hypothesis\n",
    "* Define the test statistic\n",
    "* Generate many sets of simulated data assuming the null hypothesis is true\n",
    "* For each generated simulated data calculate the t-statistic\n",
    "* The p-value is the fraction of your simulated data for which the t-statistic is at least as extreme as for the actual data."
   ]
  },
  {
   "cell_type": "markdown",
   "metadata": {},
   "source": [
    "### The null hypothesis: The active bout lengths of the wild type and heterozygotic fish are identically distributed.\n",
    "\n",
    "### t-statistic: difference in mean between heterozygotic and wild type \n",
    "\n",
    "### At least as extreme as: t-statistic is greater than or equal to what was observed.\n",
    "\n",
    "To start, we need to do a permutation test:\n",
    "    - Scramble the data\n",
    "    - Compute the test statistic"
   ]
  },
  {
   "cell_type": "code",
   "execution_count": 132,
   "metadata": {},
   "outputs": [],
   "source": [
    "def permutation_sample(data1, data2):\n",
    "    \"\"\"Generate a permutation sample from two data sets.\"\"\"\n",
    "    # Concatenate the data sets\n",
    "    data = np.concatenate((data1, data2))\n",
    "\n",
    "    # Permute the concatenated array\n",
    "    permuted_data = np.random.permutation(data)\n",
    "\n",
    "    # Split the permuted array into two\n",
    "    perm_sample_1 = permuted_data[:len(data1)]\n",
    "    perm_sample_2 = permuted_data[len(data1):]\n",
    "\n",
    "    return perm_sample_1, perm_sample_2"
   ]
  },
  {
   "cell_type": "code",
   "execution_count": 133,
   "metadata": {},
   "outputs": [],
   "source": [
    "def draw_perm_reps(data_1, data_2, func, size=1):\n",
    "    \"\"\"Generate multiple permutation replicates.\"\"\"\n",
    "    # Initialize array of replicates: perm_replicates\n",
    "    perm_replicates = np.empty(size)\n",
    "\n",
    "    for i in range(size):\n",
    "        # Generate permutation sample\n",
    "        perm_sample_1, perm_sample_2 = permutation_sample(data_1, data_2)\n",
    "\n",
    "        # Compute the test statistic\n",
    "        perm_replicates[i] = func(perm_sample_1, perm_sample_2)\n",
    "\n",
    "    return perm_replicates"
   ]
  },
  {
   "cell_type": "code",
   "execution_count": 137,
   "metadata": {},
   "outputs": [],
   "source": [
    "def diff_of_means(data_1, data_2):\n",
    "    \"\"\"Difference in means of two arrays.\"\"\"\n",
    "    return np.mean(data_1) - np.mean(data_2)"
   ]
  },
  {
   "cell_type": "code",
   "execution_count": 140,
   "metadata": {},
   "outputs": [],
   "source": [
    "diff_means_obs = diff_of_means(bout_lengths_het, bout_lengths_wt)"
   ]
  },
  {
   "cell_type": "code",
   "execution_count": 139,
   "metadata": {},
   "outputs": [],
   "source": [
    "perm_reps = draw_perm_reps(bout_lengths_het, bout_lengths_wt, diff_of_means, size=10000)"
   ]
  },
  {
   "cell_type": "code",
   "execution_count": 142,
   "metadata": {},
   "outputs": [
    {
     "name": "stdout",
     "output_type": "stream",
     "text": [
      "p = 0.0011\n"
     ]
    }
   ],
   "source": [
    "p_val = np.sum(perm_reps >= diff_means_obs)/len(perm_reps)\n",
    "# Print the result\n",
    "print('p =', p_val)"
   ]
  },
  {
   "cell_type": "markdown",
   "metadata": {},
   "source": [
    "- A p-value of 0.001 suggests that the observed difference in means is unlikely to occur if heterozygotic and wild type fish have active bout lengths that are identically distributed.\n",
    "\n",
    "The permutation test has a pretty restrictive hypothesis, that the heterozygotic and wild type bout lengths are identically distributed. Now, use a bootstrap hypothesis test to test the hypothesis that the means are equal, making no assumptions about the distributions."
   ]
  },
  {
   "cell_type": "code",
   "execution_count": 144,
   "metadata": {},
   "outputs": [
    {
     "name": "stdout",
     "output_type": "stream",
     "text": [
      "p-value = 0.0005\n"
     ]
    }
   ],
   "source": [
    "# Concatenate two datasets\n",
    "bout_lengths_concat = np.concatenate((bout_lengths_wt, bout_lengths_het))\n",
    "\n",
    "# Compute mean of all bout_lengths: mean_bout_length\n",
    "mean_bout_length = np.mean(bout_lengths_concat)\n",
    "\n",
    "# Shift both data sets such that they both have the same mean\n",
    "wt_shifted = bout_lengths_wt - np.mean(bout_lengths_wt) + mean_bout_length\n",
    "het_shifted = bout_lengths_het - np.mean(bout_lengths_het) + mean_bout_length\n",
    "\n",
    "# Compute 10,000 bootstrap replicates from shifted arrays\n",
    "bs_reps_wt = dcst.draw_bs_reps(wt_shifted, np.mean, size=10000)\n",
    "bs_reps_het = dcst.draw_bs_reps(het_shifted, np.mean, size=10000)\n",
    "\n",
    "# Get replicates of difference of means: bs_replicates\n",
    "bs_reps = bs_reps_het - bs_reps_wt\n",
    "\n",
    "# Compute and print p-value: p\n",
    "p = np.sum(bs_reps >= diff_means_obs) / len(bs_reps)\n",
    "print('p-value =', p)"
   ]
  },
  {
   "cell_type": "raw",
   "metadata": {},
   "source": [
    "The result of similar magnitude as the permutation test, though slightly smaller, probably because the heterozygote bout length distribution has a heavier tail to the right."
   ]
  }
 ],
 "metadata": {
  "kernelspec": {
   "display_name": "Python 3",
   "language": "python",
   "name": "python3"
  },
  "language_info": {
   "codemirror_mode": {
    "name": "ipython",
    "version": 3
   },
   "file_extension": ".py",
   "mimetype": "text/x-python",
   "name": "python",
   "nbconvert_exporter": "python",
   "pygments_lexer": "ipython3",
   "version": "3.8.1"
  }
 },
 "nbformat": 4,
 "nbformat_minor": 4
}
